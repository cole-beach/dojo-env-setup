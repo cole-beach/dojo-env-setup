{
 "cells": [
  {
   "cell_type": "markdown",
   "metadata": {},
   "source": [
    "# Env Troubleshooting Report"
   ]
  },
  {
   "cell_type": "markdown",
   "metadata": {},
   "source": [
    "> This notebook is a bare bones snippet from the main environment testing notebooks.\n",
    "- **Ideally, you should first open and run all of the cells in the appropriate environment tester notebook** (see list of file names below)\n",
    "- In the main folder of this repo (above this Troubleshooting folder):\n",
    "\t- \"EnvironmentTester-mac.ipynb\" \n",
    "\t- \"EnvironmentTester-windows.ipynb\"\n",
    "\t\n",
    "\n",
    "- You can also just run the first code cells in this notebook to get a barebones report about your environment.\n",
    "\n",
    "> - **You should show the output of both notebooks to your instructor or TA when troubleshooting.**\n",
    "\n",
    "\n"
   ]
  },
  {
   "cell_type": "markdown",
   "metadata": {},
   "source": [
    "### Set the Output Folder And Delete Previous .txt files"
   ]
  },
  {
   "cell_type": "code",
   "execution_count": null,
   "metadata": {},
   "outputs": [],
   "source": []
  },
  {
   "cell_type": "code",
   "execution_count": 1,
   "metadata": {
    "ExecuteTime": {
     "end_time": "2022-07-03T03:55:40.386703Z",
     "start_time": "2022-07-03T03:55:39.154439Z"
    }
   },
   "outputs": [
    {
     "name": "stdout",
     "output_type": "stream",
     "text": [
      "\n",
      "  Using cached tzdata-2022.1-py2.py3-none-any.whl (339 kB)\n",
      "Installing collected packages: tzdata, pytz-deprecation-shim, tzlocal\n",
      "Successfully installed pytz-deprecation-shim-0.1.0.post0 tzdata-2022.1 tzlocal-4.2\n"
     ]
    }
   ],
   "source": [
    "from IPython.display import clear_output\n",
    "!pip install tzlocal\n",
    "clear_output()\n",
    "from tzlocal import get_localzone,get_localzone_name"
   ]
  },
  {
   "cell_type": "code",
   "execution_count": 2,
   "metadata": {
    "ExecuteTime": {
     "end_time": "2022-07-03T03:55:40.393149Z",
     "start_time": "2022-07-03T03:55:40.389070Z"
    }
   },
   "outputs": [],
   "source": [
    "import os, glob, sys\n",
    "VERBOSE = False\n",
    "\n",
    "## Saving kernel's current location to cd back to at end\n",
    "start_dir = os.path.abspath(os.curdir)\n",
    "\n",
    "## Make sure troubleshooting folder exists\n",
    "filepath = os.path.abspath(os.path.curdir)\n",
    "if filepath.endswith('Troubleshooting') == False:\n",
    "\tos.makedirs('Troubleshooting',exist_ok=True)\n",
    "\toutput_folder = os.path.abspath('./Troubleshooting/')\n",
    "else:\n",
    "\toutput_folder = os.path.abspath(os.path.curdir)\n",
    "\t# relative_folder = os.path.curdir()\n",
    "\n",
    "## Normalize file path for Windows compatibility\n",
    "output_folder = os.path.normpath(output_folder)\n",
    "if VERBOSE:\n",
    "\tprint(f'- The report will be saved in this folder: \"{output_folder}\"')\n",
    "    \n",
    "## Change kernel to output_folder\n",
    "os.chdir(output_folder)"
   ]
  },
  {
   "cell_type": "code",
   "execution_count": 3,
   "metadata": {
    "ExecuteTime": {
     "end_time": "2022-07-03T03:55:40.409426Z",
     "start_time": "2022-07-03T03:55:40.405229Z"
    }
   },
   "outputs": [],
   "source": [
    "## check if txt files already exist\n",
    " \n",
    "## if so, delete the files (list comprehensions way)\n",
    "txt_files = glob.glob(output_folder+\"/*.txt\")\n",
    "[os.remove(f) for f in txt_files]\t\t\n",
    "\n",
    "# ## Loop to Remove\n",
    "# for file in txt_files:\n",
    "# \tif os.path.isfile(file):\n",
    "# \t\tos.remove(file)\n",
    "\n",
    "## Confirm they're deleted\t\t\n",
    "txt_files = glob.glob(output_folder+\"/*.txt\")\n",
    "\n",
    "if VERBOSE:\n",
    "\tif len(txt_files) == 0:\n",
    "\t\tprint('- [i] Previous text files successfully deleted.')\n",
    "\telse:\n",
    "\t\tprint(f'[!] Previous text files not fully delted ({len(txt_files)} files remain)')"
   ]
  },
  {
   "cell_type": "markdown",
   "metadata": {},
   "source": [
    "### Save Environment Info from Terminal Commands"
   ]
  },
  {
   "cell_type": "code",
   "execution_count": 4,
   "metadata": {},
   "outputs": [
    {
     "name": "stderr",
     "output_type": "stream",
     "text": [
      "'which' is not recognized as an internal or external command,\n",
      "operable program or batch file.\n"
     ]
    },
    {
     "data": {
      "text/plain": [
       "7"
      ]
     },
     "execution_count": 4,
     "metadata": {},
     "output_type": "execute_result"
    }
   ],
   "source": [
    "## Change kernel to output_folder\n",
    "os.chdir(output_folder)\n",
    "\n",
    "## Exporting Troubleshooting reports \n",
    "# (just in case you need help troubleshooting with an instrutor)\n",
    "\n",
    "!echo $PATH >> shell_path.txt\n",
    "\n",
    "!conda info >> \"conda info.txt\"\n",
    "!conda env list >> \"conda env list.txt\"\n",
    "!conda list >> \"conda list.txt\"\n",
    "\n",
    "!jupyter kernelspec list >> \"jupyter kernelspec list.txt\"\n",
    "!which python >>\"which python.txt\"\n",
    "!whoami >> \"whoami.txt\"\n",
    "\n",
    "## get all .txt files\n",
    "txt_files = sorted(glob.glob(output_folder+\"/*.txt\"))\n",
    "len(txt_files)\n"
   ]
  },
  {
   "cell_type": "code",
   "execution_count": 5,
   "metadata": {
    "ExecuteTime": {
     "end_time": "2022-07-03T03:55:47.638596Z",
     "start_time": "2022-07-03T03:55:40.410312Z"
    }
   },
   "outputs": [],
   "source": [
    "# ## Exporting Troubleshooting reports \n",
    "# # (just in case you need help troubleshooting with an instrutor)\n",
    "\n",
    "# !echo $PATH >> shell_path.txt\n",
    "\n",
    "# !conda info >> \"$output_folder/conda info.txt\"\n",
    "# !conda env list >> \"$output_folder/conda env list.txt\"\n",
    "# !conda list >> \"$output_folder/conda list.txt\"\n",
    "\n",
    "# !jupyter kernelspec list >> \"$output_folder/jupyter kernelspec list.txt\"\n",
    "# !which python >>\"$output_folder/which python.txt\"\n",
    "# !whoami >> \"$output_folder/whoami.txt\"\n",
    "\n",
    "# ## get all .txt files\n",
    "# txt_files = sorted(glob.glob(output_folder+\"/*.txt\"))\n",
    "# len(txt_files)\n"
   ]
  },
  {
   "cell_type": "code",
   "execution_count": 6,
   "metadata": {
    "ExecuteTime": {
     "end_time": "2022-07-03T03:55:47.654812Z",
     "start_time": "2022-07-03T03:55:47.650786Z"
    }
   },
   "outputs": [],
   "source": [
    "# ## test getting simple name from fpath\n",
    "# os.path.basename(txt_files[0])"
   ]
  },
  {
   "cell_type": "markdown",
   "metadata": {},
   "source": [
    "### Combine Text File Outputs into 1 Report"
   ]
  },
  {
   "cell_type": "code",
   "execution_count": 7,
   "metadata": {
    "ExecuteTime": {
     "end_time": "2022-07-03T03:55:47.665368Z",
     "start_time": "2022-07-03T03:55:47.656945Z"
    }
   },
   "outputs": [
    {
     "data": {
      "text/plain": [
       "dict_keys(['conda env list', 'conda info', 'conda list', 'jupyter kernelspec list', 'shell_path', 'which python', 'whoami'])"
      ]
     },
     "execution_count": 7,
     "metadata": {},
     "output_type": "execute_result"
    }
   ],
   "source": [
    "## Combine Text Files into a Dictionary with filename as the keyd\n",
    "raw_report = {}\n",
    "for file in txt_files:\n",
    "\t## simple filename for key\n",
    "\tsimple_fname = os.path.basename(file).replace('.txt','')\n",
    "\t\n",
    "\t# Open file and save its contents into dict\n",
    "\twith open(file) as f:\n",
    "\t\traw_report[simple_fname] =f.read()\n",
    "\t\t\n",
    "raw_report.keys()"
   ]
  },
  {
   "cell_type": "code",
   "execution_count": 8,
   "metadata": {
    "ExecuteTime": {
     "end_time": "2022-07-03T03:55:47.670812Z",
     "start_time": "2022-07-03T03:55:47.667634Z"
    }
   },
   "outputs": [],
   "source": [
    "## Setting Preferred Order (conda list last) using orderd_report list\n",
    "if \"conda list\" in raw_report.keys():\n",
    "\tconda_list = raw_report.pop('conda list')\n",
    "\n",
    "ordered_report = []\n",
    "for key, data in raw_report.items():\n",
    "\tordered_report.append({key:data})\n",
    "ordered_report.append({'conda list':conda_list})"
   ]
  },
  {
   "cell_type": "code",
   "execution_count": 9,
   "metadata": {
    "ExecuteTime": {
     "end_time": "2022-07-03T03:55:47.679354Z",
     "start_time": "2022-07-03T03:55:47.672958Z"
    }
   },
   "outputs": [],
   "source": [
    "## Generating final report \n",
    "report_list = []\n",
    "banner = \"====\"*20\n",
    "\n",
    "for report_dict in ordered_report:\n",
    "\tfor name, txt_report in report_dict.items():\n",
    "\t\t\n",
    "\t\t## Start report piece with banner\n",
    "\t\treport_piece = f\"{banner}\\n- [i] {name}:\\n{banner}\\n\"\n",
    "\t\t\n",
    "\t\t## Split System Path for readability\n",
    "\t\tif name == \"shell_path\":\n",
    "\t\t\ttxt_report = txt_report.replace(\":\",\"\\n:\")\n",
    "\t\t\t\n",
    "\t\t## Append file's contents\n",
    "\t\treport_piece += txt_report\n",
    "\t\treport_piece+=f\"{banner}\\n\\n\"\n",
    "\t\t\n",
    "\t\treport_list.append(report_piece)\n",
    "\n",
    "## Deleting individual text files before saving combined file\n",
    "txt_files = glob.glob(output_folder+\"/*.txt\")\t\t\n",
    "[os.remove(f) for f in txt_files];\n"
   ]
  },
  {
   "cell_type": "code",
   "execution_count": 10,
   "metadata": {
    "ExecuteTime": {
     "end_time": "2022-07-03T03:55:47.694282Z",
     "start_time": "2022-07-03T03:55:47.687135Z"
    }
   },
   "outputs": [
    {
     "data": {
      "text/plain": [
       "'07/20/2022 @ 12:32:45 PM (tz=Los_Angeles)'"
      ]
     },
     "execution_count": 10,
     "metadata": {},
     "output_type": "execute_result"
    }
   ],
   "source": [
    "## Recording time notebook was run\n",
    "import datetime as dt\n",
    "from tzlocal import get_localzone, get_localzone_name\n",
    "now = dt.datetime.now(get_localzone())\n",
    "now_nice = now.strftime(\"%m/%d/%Y @ %I:%M:%S %p \") + f\"(tz={get_localzone_name().split('/')[-1]})\"\n",
    "now_nice"
   ]
  },
  {
   "cell_type": "code",
   "execution_count": 11,
   "metadata": {
    "ExecuteTime": {
     "end_time": "2022-07-03T03:55:47.698480Z",
     "start_time": "2022-07-03T03:55:47.695597Z"
    }
   },
   "outputs": [
    {
     "data": {
      "text/plain": [
       "'c:\\\\Users\\\\nbeac\\\\OneDrive\\\\Documents\\\\GitHub\\\\dojo-env-setup\\\\Troubleshooting\\\\FINAL_REPORT.txt'"
      ]
     },
     "execution_count": 11,
     "metadata": {},
     "output_type": "execute_result"
    }
   ],
   "source": [
    "os.path.normpath(os.path.join(output_folder , \"FINAL_REPORT.txt\"))"
   ]
  },
  {
   "cell_type": "code",
   "execution_count": 12,
   "metadata": {
    "ExecuteTime": {
     "end_time": "2022-07-03T03:55:47.703102Z",
     "start_time": "2022-07-03T03:55:47.699949Z"
    }
   },
   "outputs": [],
   "source": [
    "## Saving as FINAL REPORT.txt\n",
    "report_fname = os.path.normpath(os.path.join(output_folder , \"FINAL_REPORT.txt\"))\n",
    "with open(report_fname,'w') as f:\n",
    "    final_txt = \"\\n\".join(report_list)\n",
    "    final_txt += banner\n",
    "    final_txt += f\"\\n - Report created at: {now_nice}\"\n",
    "    final_txt += '\\n'+banner\n",
    "    f.write(final_txt)"
   ]
  },
  {
   "cell_type": "code",
   "execution_count": 13,
   "metadata": {
    "ExecuteTime": {
     "end_time": "2022-07-03T03:55:47.703102Z",
     "start_time": "2022-07-03T03:55:47.699949Z"
    }
   },
   "outputs": [
    {
     "name": "stdout",
     "output_type": "stream",
     "text": [
      "- [i] Final report saved as dojo-env-setup\\Troubleshooting\\FINAL_REPORT.txt\n"
     ]
    }
   ],
   "source": [
    "## Getting relative filepath for display in env testing notebooks\n",
    "try:\n",
    "    report_rel_fname= \"dojo-env-setup\" + report_fname.split(os.path.normpath(\"dojo-env-setup/\"))[1]\n",
    "except:\n",
    "    report_rel_fname = report_fname\n",
    "print(f'- [i] Final report saved as {report_rel_fname}')\n"
   ]
  },
  {
   "cell_type": "code",
   "execution_count": 14,
   "metadata": {
    "ExecuteTime": {
     "end_time": "2022-07-03T03:55:47.706735Z",
     "start_time": "2022-07-03T03:55:47.704262Z"
    }
   },
   "outputs": [
    {
     "name": "stdout",
     "output_type": "stream",
     "text": [
      "- [i] Short Preview of FINAL REPORT:\n",
      "\n",
      "================================================================================\n",
      "- [i] conda env list:\n",
      "================================================================================\n",
      "# conda environments:\n",
      "#\n",
      "base                  *  C:\\Users\\nbeac\\anaconda3\n",
      "\n",
      "================================================================================\n",
      "\n",
      "\n",
      "================================================================================\n",
      "- [i] conda info:\n",
      "================================================================================\n",
      "\n",
      "     active environment : None\n",
      "            shell level : 0\n",
      "       user config file : C:\\Users\\nbeac\\.condarc\n",
      " populated config files : C:\\Users\\nbeac\\.condarc\n",
      "          conda version : 4.12.0\n",
      "    conda-build version : 3.21.8\n",
      "         python version : 3.9.12.final.0\n",
      "       virtual packages : __cuda=11.7=0\n",
      "                          __win=0=0\n",
      "                          __archspec=1=x86_64\n",
      "       base environment : C:\\Users\\nbeac\\anaconda3  (writable)\n",
      "      conda av data dir : \n"
     ]
    }
   ],
   "source": [
    "with open(report_fname) as f:\n",
    "\tfinal_report = f.read()\n",
    "\n",
    "\n",
    "if VERBOSE:\n",
    "\tprint('- [i] FINAL REPORT:\\n')\n",
    "\tprint(final_report)\n",
    "else:\n",
    "\tprint('- [i] Short Preview of FINAL REPORT:\\n')\n",
    "\tprint(final_report[:1000])\n",
    "# print(final_report)"
   ]
  },
  {
   "cell_type": "code",
   "execution_count": 15,
   "metadata": {},
   "outputs": [],
   "source": [
    "# Changing back to original directory\n",
    "os.chdir(start_dir)"
   ]
  }
 ],
 "metadata": {
  "kernelspec": {
   "display_name": "Python 3.10.5 64-bit (windows store)",
   "language": "python",
   "name": "python3"
  },
  "language_info": {
   "codemirror_mode": {
    "name": "ipython",
    "version": 3
   },
   "file_extension": ".py",
   "mimetype": "text/x-python",
   "name": "python",
   "nbconvert_exporter": "python",
   "pygments_lexer": "ipython3",
   "version": "3.10.5"
  },
  "toc": {
   "base_numbering": 1,
   "nav_menu": {},
   "number_sections": true,
   "sideBar": true,
   "skip_h1_title": false,
   "title_cell": "Table of Contents",
   "title_sidebar": "Contents",
   "toc_cell": false,
   "toc_position": {},
   "toc_section_display": true,
   "toc_window_display": false
  },
  "vscode": {
   "interpreter": {
    "hash": "489946f87111b7a90d356dad10d69b627c71bcc72bf30d2b2d2f9c61c64c02d1"
   }
  }
 },
 "nbformat": 4,
 "nbformat_minor": 2
}
